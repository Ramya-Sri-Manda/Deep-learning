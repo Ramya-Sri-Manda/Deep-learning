{
 "cells": [
  {
   "cell_type": "markdown",
   "id": "3a2afec7",
   "metadata": {},
   "source": [
    "# Twitter Sentiment Analysis"
   ]
  },
  {
   "cell_type": "code",
   "execution_count": 4,
   "id": "135b20c5",
   "metadata": {},
   "outputs": [],
   "source": [
    "import numpy as np\n",
    "import pandas as pd\n",
    "from sklearn.preprocessing import LabelEncoder\n",
    "from tensorflow.keras.preprocessing.text import Tokenizer\n",
    "from tensorflow.keras.preprocessing.sequence import pad_sequences\n",
    "from tensorflow.keras.models import Sequential\n",
    "from tensorflow.keras.layers import Dense, Embedding, GlobalAveragePooling1D\n",
    "from tensorflow.keras.utils import to_categorical\n",
    "import matplotlib.pyplot as plt\n"
   ]
  },
  {
   "cell_type": "code",
   "execution_count": 5,
   "id": "f31f552f",
   "metadata": {},
   "outputs": [],
   "source": [
    "# Load datasets without headers and specify column name\n",
    "column_names = ['ID', 'Company name', 'Sentiment', 'Text']\n",
    "train_df = pd.read_csv(\"C:/Users/bhumi/Downloads/twitter sentiment/twitter_training.csv\", header=None, names=column_names)\n",
    "valid_df = pd.read_csv(\"C:/Users/bhumi/Downloads/twitter sentiment/twitter_validation.csv\", header=None, names=column_names)"
   ]
  },
  {
   "cell_type": "code",
   "execution_count": 9,
   "id": "e3c9a927",
   "metadata": {},
   "outputs": [
    {
     "data": {
      "text/plain": [
       "ID                0\n",
       "Company name      0\n",
       "Sentiment         0\n",
       "Text            686\n",
       "dtype: int64"
      ]
     },
     "execution_count": 9,
     "metadata": {},
     "output_type": "execute_result"
    }
   ],
   "source": [
    "train_df.isnull().sum()"
   ]
  },
  {
   "cell_type": "code",
   "execution_count": 10,
   "id": "cf19a97c",
   "metadata": {},
   "outputs": [],
   "source": [
    "# Replace NaN values with empty strings\n",
    "train_df['Text'] = train_df['Text'].fillna('')\n",
    "valid_df['Text'] = valid_df['Text'].fillna('')"
   ]
  },
  {
   "cell_type": "code",
   "execution_count": 11,
   "id": "f311a2e2",
   "metadata": {},
   "outputs": [],
   "source": [
    "# Ensure all entries are strings\n",
    "train_df['Text'] = train_df['Text'].astype(str)\n",
    "valid_df['Text'] = valid_df['Text'].astype(str)"
   ]
  },
  {
   "cell_type": "code",
   "execution_count": 12,
   "id": "ff73644c",
   "metadata": {},
   "outputs": [],
   "source": [
    "# Extract the text and labels from the DataFrame\n",
    "train_texts = train_df['Text'].values\n",
    "train_labels = train_df['Sentiment'].values\n",
    "valid_texts = valid_df['Text'].values\n",
    "valid_labels = valid_df['Sentiment'].values"
   ]
  },
  {
   "cell_type": "code",
   "execution_count": 14,
   "id": "89fc5896",
   "metadata": {},
   "outputs": [],
   "source": [
    "# Tokenizing the text data\n",
    "tokenizer = Tokenizer(num_words=10000)\n",
    "tokenizer.fit_on_texts(train_texts)"
   ]
  },
  {
   "cell_type": "code",
   "execution_count": 15,
   "id": "64cd5c6e",
   "metadata": {},
   "outputs": [],
   "source": [
    "# Convert texts to sequences of integers\n",
    "train_sequences = tokenizer.texts_to_sequences(train_texts)\n",
    "valid_sequences = tokenizer.texts_to_sequences(valid_texts)"
   ]
  },
  {
   "cell_type": "code",
   "execution_count": 16,
   "id": "a9f49c19",
   "metadata": {},
   "outputs": [],
   "source": [
    "# Pad sequences to ensure uniform input size\n",
    "max_length = 100  # Adjust based on your dataset\n",
    "X_train = pad_sequences(train_sequences, maxlen=max_length)\n",
    "X_valid = pad_sequences(valid_sequences, maxlen=max_length)"
   ]
  },
  {
   "cell_type": "code",
   "execution_count": 17,
   "id": "11d92d0b",
   "metadata": {},
   "outputs": [],
   "source": [
    "# Encode the labels\n",
    "encoder = LabelEncoder()\n",
    "y_train = encoder.fit_transform(train_labels)# Convert labels to categorical (one-hot encoding)\n",
    "y_train = to_categorical(y_train)\n",
    "y_valid = to_categorical(y_valid)\n",
    "y_valid = encoder.transform(valid_labels)\n"
   ]
  },
  {
   "cell_type": "code",
   "execution_count": 18,
   "id": "8c4dd00e",
   "metadata": {},
   "outputs": [],
   "source": [
    "# Convert labels to categorical (one-hot encoding)\n",
    "y_train = to_categorical(y_train)\n",
    "y_valid = to_categorical(y_valid)"
   ]
  },
  {
   "cell_type": "code",
   "execution_count": 37,
   "id": "1af33818",
   "metadata": {},
   "outputs": [
    {
     "name": "stdout",
     "output_type": "stream",
     "text": [
      "Unique classes in train labels: 4\n",
      "Unique classes in valid labels: 4\n"
     ]
    }
   ],
   "source": [
    "print(\"Unique classes in train labels:\", len(np.unique(train_labels)))\n",
    "print(\"Unique classes in valid labels:\", len(np.unique(valid_labels)))"
   ]
  },
  {
   "cell_type": "code",
   "execution_count": 59,
   "id": "a2342783",
   "metadata": {},
   "outputs": [
    {
     "name": "stdout",
     "output_type": "stream",
     "text": [
      "Class Labels: ['Irrelevant' 'Negative' 'Neutral' 'Positive']\n"
     ]
    }
   ],
   "source": [
    "# Verify class labels\n",
    "print(\"Class Labels:\", encoder.classes_)"
   ]
  },
  {
   "cell_type": "markdown",
   "id": "c2737dd4",
   "metadata": {},
   "source": [
    "# ANN Model"
   ]
  },
  {
   "cell_type": "code",
   "execution_count": 38,
   "id": "59a83337",
   "metadata": {},
   "outputs": [],
   "source": [
    "num_classes = 4  # Update this according to the number of unique classes\n",
    "\n",
    "model = Sequential([\n",
    "    Embedding(input_dim=10000, output_dim=64, input_length=max_length),\n",
    "    GlobalAveragePooling1D(),\n",
    "    Dense(64, activation='relu'),\n",
    "    Dense(num_classes, activation='softmax')  # Ensure this matches the number of classes\n",
    "])\n"
   ]
  },
  {
   "cell_type": "code",
   "execution_count": 39,
   "id": "ef0d256f",
   "metadata": {},
   "outputs": [],
   "source": [
    "# Compile the model\n",
    "model.compile(optimizer='adam', loss='categorical_crossentropy', metrics=['accuracy'])"
   ]
  },
  {
   "cell_type": "code",
   "execution_count": 40,
   "id": "de5a8c47",
   "metadata": {},
   "outputs": [
    {
     "name": "stdout",
     "output_type": "stream",
     "text": [
      "Epoch 1/10\n",
      "\u001b[1m2334/2334\u001b[0m \u001b[32m━━━━━━━━━━━━━━━━━━━━\u001b[0m\u001b[37m\u001b[0m \u001b[1m18s\u001b[0m 7ms/step - accuracy: 0.3885 - loss: 1.2863 - val_accuracy: 0.6690 - val_loss: 0.8459\n",
      "Epoch 2/10\n",
      "\u001b[1m2334/2334\u001b[0m \u001b[32m━━━━━━━━━━━━━━━━━━━━\u001b[0m\u001b[37m\u001b[0m \u001b[1m15s\u001b[0m 6ms/step - accuracy: 0.6331 - loss: 0.9045 - val_accuracy: 0.7560 - val_loss: 0.6320\n",
      "Epoch 3/10\n",
      "\u001b[1m2334/2334\u001b[0m \u001b[32m━━━━━━━━━━━━━━━━━━━━\u001b[0m\u001b[37m\u001b[0m \u001b[1m15s\u001b[0m 6ms/step - accuracy: 0.7069 - loss: 0.7433 - val_accuracy: 0.8150 - val_loss: 0.5033\n",
      "Epoch 4/10\n",
      "\u001b[1m2334/2334\u001b[0m \u001b[32m━━━━━━━━━━━━━━━━━━━━\u001b[0m\u001b[37m\u001b[0m \u001b[1m15s\u001b[0m 6ms/step - accuracy: 0.7487 - loss: 0.6403 - val_accuracy: 0.7630 - val_loss: 0.5671\n",
      "Epoch 5/10\n",
      "\u001b[1m2334/2334\u001b[0m \u001b[32m━━━━━━━━━━━━━━━━━━━━\u001b[0m\u001b[37m\u001b[0m \u001b[1m14s\u001b[0m 6ms/step - accuracy: 0.7735 - loss: 0.5871 - val_accuracy: 0.8210 - val_loss: 0.4628\n",
      "Epoch 6/10\n",
      "\u001b[1m2334/2334\u001b[0m \u001b[32m━━━━━━━━━━━━━━━━━━━━\u001b[0m\u001b[37m\u001b[0m \u001b[1m15s\u001b[0m 6ms/step - accuracy: 0.7901 - loss: 0.5477 - val_accuracy: 0.8750 - val_loss: 0.3605\n",
      "Epoch 7/10\n",
      "\u001b[1m2334/2334\u001b[0m \u001b[32m━━━━━━━━━━━━━━━━━━━━\u001b[0m\u001b[37m\u001b[0m \u001b[1m15s\u001b[0m 6ms/step - accuracy: 0.8028 - loss: 0.5125 - val_accuracy: 0.8800 - val_loss: 0.3407\n",
      "Epoch 8/10\n",
      "\u001b[1m2334/2334\u001b[0m \u001b[32m━━━━━━━━━━━━━━━━━━━━\u001b[0m\u001b[37m\u001b[0m \u001b[1m15s\u001b[0m 6ms/step - accuracy: 0.8019 - loss: 0.5083 - val_accuracy: 0.9130 - val_loss: 0.2868\n",
      "Epoch 9/10\n",
      "\u001b[1m2334/2334\u001b[0m \u001b[32m━━━━━━━━━━━━━━━━━━━━\u001b[0m\u001b[37m\u001b[0m \u001b[1m15s\u001b[0m 6ms/step - accuracy: 0.8140 - loss: 0.4820 - val_accuracy: 0.8360 - val_loss: 0.4506\n",
      "Epoch 10/10\n",
      "\u001b[1m2334/2334\u001b[0m \u001b[32m━━━━━━━━━━━━━━━━━━━━\u001b[0m\u001b[37m\u001b[0m \u001b[1m15s\u001b[0m 6ms/step - accuracy: 0.8216 - loss: 0.4663 - val_accuracy: 0.8750 - val_loss: 0.3510\n"
     ]
    }
   ],
   "source": [
    "# Train the model\n",
    "history = model.fit(X_train, y_train, epochs=10, batch_size=32, validation_data=(X_valid, y_valid))"
   ]
  },
  {
   "cell_type": "code",
   "execution_count": 41,
   "id": "5528699c",
   "metadata": {},
   "outputs": [
    {
     "name": "stdout",
     "output_type": "stream",
     "text": [
      "\u001b[1m32/32\u001b[0m \u001b[32m━━━━━━━━━━━━━━━━━━━━\u001b[0m\u001b[37m\u001b[0m \u001b[1m0s\u001b[0m 3ms/step - accuracy: 0.8657 - loss: 0.3449\n",
      "Validation Loss: 0.35096901655197144\n",
      "Validation Accuracy: 0.875\n"
     ]
    }
   ],
   "source": [
    "# Evaluate the model\n",
    "loss, accuracy = model.evaluate(X_valid, y_valid)\n",
    "print(f\"Validation Loss: {loss}\")\n",
    "print(f\"Validation Accuracy: {accuracy}\")"
   ]
  },
  {
   "cell_type": "code",
   "execution_count": 42,
   "id": "48e055e9",
   "metadata": {},
   "outputs": [
    {
     "data": {
      "image/png": "[encoded data removed]",
      "text/plain": [
       "<Figure size 640x480 with 1 Axes>"
      ]
     },
     "metadata": {},
     "output_type": "display_data"
    }
   ],
   "source": [
    "# Plot training history (optional)\n",
    "plt.plot(history.history['accuracy'], label='accuracy')\n",
    "plt.plot(history.history['val_accuracy'], label='val_accuracy')\n",
    "plt.xlabel('Epoch')\n",
    "plt.ylabel('Accuracy')\n",
    "plt.ylim([0, 1])\n",
    "plt.legend(loc='lower right')\n",
    "plt.show()"
   ]
  },
  {
   "cell_type": "code",
   "execution_count": 44,
   "id": "385931da",
   "metadata": {},
   "outputs": [
    {
     "name": "stdout",
     "output_type": "stream",
     "text": [
      "\u001b[1m1/1\u001b[0m \u001b[32m━━━━━━━━━━━━━━━━━━━━\u001b[0m\u001b[37m\u001b[0m \u001b[1m0s\u001b[0m 41ms/step\n",
      "Text: 'I love this product!'\n",
      "Predicted Sentiment: Positive\n"
     ]
    }
   ],
   "source": [
    "# Example new text to predict\n",
    "new_text = [\"I love this product!\"]\n",
    "\n",
    "# Tokenize and pad the new text\n",
    "# Ensure the tokenizer is the same one used during training\n",
    "new_sequences = tokenizer.texts_to_sequences(new_text)\n",
    "X_new = pad_sequences(new_sequences, maxlen=max_length)\n",
    "\n",
    "# Make the prediction\n",
    "predictions = model.predict(X_new)\n",
    "\n",
    "# Decode the predictions\n",
    "# Get the class labels from the encoder\n",
    "class_labels = encoder.classes_\n",
    "predicted_class_index = np.argmax(predictions, axis=1)\n",
    "predicted_label = class_labels[predicted_class_index[0]]\n",
    "\n",
    "print(f\"Text: '{new_text[0]}'\")\n",
    "print(f\"Predicted Sentiment: {predicted_label}\")\n"
   ]
  },
  {
   "cell_type": "code",
   "execution_count": 45,
   "id": "f0ac5738",
   "metadata": {},
   "outputs": [
    {
     "name": "stdout",
     "output_type": "stream",
     "text": [
      "\u001b[1m1/1\u001b[0m \u001b[32m━━━━━━━━━━━━━━━━━━━━\u001b[0m\u001b[37m\u001b[0m \u001b[1m0s\u001b[0m 48ms/step\n",
      "Text: 'This is the worst service ever.'\n",
      "Predicted Sentiment: Negative\n"
     ]
    }
   ],
   "source": [
    "# Example new text to predict\n",
    "new_text = [\"This is worst service ever\"]\n",
    "\n",
    "# Tokenize and pad the new text\n",
    "# Ensure the tokenizer is the same one used during training\n",
    "new_sequences = tokenizer.texts_to_sequences(new_text)\n",
    "X_new = pad_sequences(new_sequences, maxlen=max_length)\n",
    "\n",
    "# Make the prediction\n",
    "predictions = model.predict(X_new)\n",
    "\n",
    "# Decode the predictions\n",
    "# Get the class labels from the encoder\n",
    "class_labels = encoder.classes_\n",
    "predicted_class_index = np.argmax(predictions, axis=1)\n",
    "predicted_label = class_labels[predicted_class_index[0]]\n",
    "\n",
    "print(f\"Text: '{new_text[0]}'\")\n",
    "print(f\"Predicted Sentiment: {predicted_label}\")\n"
   ]
  },
  {
   "cell_type": "code",
   "execution_count": 63,
   "id": "f611b5c6",
   "metadata": {},
   "outputs": [
    {
     "name": "stdout",
     "output_type": "stream",
     "text": [
      "\u001b[1m1/1\u001b[0m \u001b[32m━━━━━━━━━━━━━━━━━━━━\u001b[0m\u001b[37m\u001b[0m \u001b[1m0s\u001b[0m 47ms/step\n",
      "Text: 'i enter that gunner seat and actually fear for my life'\n",
      "Predicted Sentiment: Neutral\n"
     ]
    }
   ],
   "source": [
    "# Example new text to predict\n",
    "new_text = [\"i enter that gunner seat and actually fear for my life\"]\n",
    "# Tokenize and pad the new text\n",
    "# Ensure the tokenizer is the same one used during training\n",
    "new_sequences = tokenizer.texts_to_sequences(new_text)\n",
    "X_new = pad_sequences(new_sequences, maxlen=max_length)\n",
    "\n",
    "# Make the prediction\n",
    "predictions = model.predict(X_new)\n",
    "\n",
    "# Decode the predictions\n",
    "# Get the class labels from the encoder\n",
    "class_labels = encoder.classes_\n",
    "predicted_class_index = np.argmax(predictions, axis=1)\n",
    "predicted_label = class_labels[predicted_class_index[0]]\n",
    "\n",
    "print(f\"Text: '{new_text[0]}'\")\n",
    "print(f\"Predicted Sentiment: {predicted_label}\")\n"
   ]
  },
  {
   "cell_type": "code",
   "execution_count": null,
   "id": "cf06f173",
   "metadata": {},
   "outputs": [],
   "source": []
  }
 ],
 "metadata": {
  "kernelspec": {
   "display_name": "Python 3 (ipykernel)",
   "language": "python",
   "name": "python3"
  },
  "language_info": {
   "codemirror_mode": {
    "name": "ipython",
    "version": 3
   },
   "file_extension": ".py",
   "mimetype": "text/x-python",
   "name": "python",
   "nbconvert_exporter": "python",
   "pygments_lexer": "ipython3",
   "version": "3.10.9"
  }
 },
 "nbformat": 4,
 "nbformat_minor": 5
}
